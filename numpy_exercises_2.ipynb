{
 "cells": [
  {
   "cell_type": "markdown",
   "metadata": {},
   "source": [
    "<a id='top'></a>\n",
    "<h1 style='text-align:center'>Numpy Exercises 2</h1>\n",
    "\n",
    "### Exercises\n",
    "\n",
    "1. [Find the most frequent value in an array](#1)\n",
    "2. [Find the number of rows and columns of a given array](#2)\n",
    "3. [Save a given array to a text file and load it](#3)\n",
    "4. [Test whether any of the elements of a given array is non-zero](#4)\n",
    "5. [Test whether none of the elements of a given array is zero](#5)\n",
    "6. [Create two arrays of size bigger and smaller than a given array](#6)\n",
    "7. [Create an array that represents the rank of each item of a given array](#7)\n",
    "8. [Count number of occurrences of each value in a given array of non-negative integers](#8)\n",
    "9. [Count the number of specified character in a given array](#9)\n",
    "10. [Create a 5X2 integer array from a range between 100 to 200 such that the difference between each element is 10](#10)"
   ]
  },
  {
   "cell_type": "markdown",
   "metadata": {},
   "source": [
    "<a id='1'></a>\n",
    "### 1. Find the most frequent value in an array\n",
    "[Back to top](#top)"
   ]
  },
  {
   "cell_type": "code",
   "execution_count": 6,
   "metadata": {},
   "outputs": [
    {
     "name": "stdout",
     "output_type": "stream",
     "text": [
      "Sample Array:\n",
      " [[5 5 2 4 6]\n",
      " [1 8 4 1 1]\n",
      " [1 4 8 1 5]\n",
      " [5 6 4 6 3]\n",
      " [4 3 1 8 6]]\n",
      "\n",
      "Unique Values in the array: [1 2 3 4 5 6 8]\n",
      "\n",
      "Counts: [6 1 2 5 4 4 3]\n",
      "\n",
      "Return the index of largest value in count:  0\n",
      "\n",
      "Most frequent value in the array: 1\n"
     ]
    }
   ],
   "source": [
    "import numpy as np\n",
    "\n",
    "arr = np.random.randint(1,11,size=(5,5))\n",
    "print('Sample Array:\\n',arr)\n",
    "vals, counts = np.unique(arr, return_counts=True)\n",
    "print('\\nUnique Values in the array:',vals)\n",
    "print('\\nCounts:',counts)\n",
    "print('\\nReturn the index of largest value in count: ',np.argmax(counts))\n",
    "print('\\nMost frequent value in the array:',vals[np.argmax(counts)])"
   ]
  },
  {
   "cell_type": "markdown",
   "metadata": {},
   "source": [
    "<a id='2'></a>\n",
    "### 2. Find the number of rows and columns of a given array\n",
    "[Back to top](#top)"
   ]
  },
  {
   "cell_type": "code",
   "execution_count": 37,
   "metadata": {},
   "outputs": [
    {
     "name": "stdout",
     "output_type": "stream",
     "text": [
      "Sample Array:\n",
      " [[8 7 9 7 2]\n",
      " [2 8 4 8 6]\n",
      " [4 3 2 7 9]]\n",
      "\n",
      "Using shape:  (3, 5)\n",
      "Using size (rows):  3\n",
      "Using size (columns):  5\n"
     ]
    }
   ],
   "source": [
    "arr1 = np.random.randint(1,10,size=(3,5))\n",
    "print('Sample Array:\\n',arr)\n",
    "print('\\nUsing shape: ',arr.shape)\n",
    "print('Using size (rows): ',np.size(arr,axis=0))\n",
    "print('Using size (columns): ',np.size(arr,axis=1))\n",
    "\n"
   ]
  },
  {
   "cell_type": "markdown",
   "metadata": {},
   "source": [
    "<a id='3'></a>\n",
    "### 3. Save a given array to a text file and load it.\n",
    "[Back to top](#top)"
   ]
  },
  {
   "cell_type": "code",
   "execution_count": 48,
   "metadata": {},
   "outputs": [
    {
     "name": "stdout",
     "output_type": "stream",
     "text": [
      "Original array:\n",
      "[[ 0  1  2]\n",
      " [ 3  4  5]\n",
      " [ 6  7  8]\n",
      " [ 9 10 11]]\n",
      "After loading, content of the text file:\n",
      "[[ 0.  1.  2.]\n",
      " [ 3.  4.  5.]\n",
      " [ 6.  7.  8.]\n",
      " [ 9. 10. 11.]]\n"
     ]
    }
   ],
   "source": [
    "import numpy as np\n",
    "import os\n",
    "x = np.arange(12).reshape(4, 3)\n",
    "print(\"Original array:\")\n",
    "print(x)\n",
    "header = 'col1 col2 col3'\n",
    "np.savetxt('temp.txt', x, fmt=\"%d\", header=header,delimiter=',') \n",
    "print(\"After loading, content of the text file:\")\n",
    "result = np.loadtxt('temp.txt',delimiter=',')\n",
    "print(result)"
   ]
  },
  {
   "cell_type": "markdown",
   "metadata": {},
   "source": [
    "<a id='4'></a>\n",
    "### 4. Test whether any of the elements of a given array is non-zero.\n",
    "[Back to top](#top)"
   ]
  },
  {
   "cell_type": "code",
   "execution_count": 7,
   "metadata": {},
   "outputs": [
    {
     "name": "stdout",
     "output_type": "stream",
     "text": [
      "Original array:\n",
      "[1 0 0 0]\n",
      "Test whether any of the elements of a given array is non-zero:\n",
      "True\n",
      "Original array:\n",
      "[0 0 0 0]\n",
      "Test whether any of the elements of a given array is non-zero:\n",
      "False\n"
     ]
    }
   ],
   "source": [
    "x = np.array([1, 0, 0, 0])\n",
    "print(\"Original array:\")\n",
    "print(x)\n",
    "print(\"Test whether any of the elements of a given array is non-zero:\")\n",
    "print(np.any(x))\n",
    "x = np.array([0, 0, 0, 0])\n",
    "print(\"Original array:\")\n",
    "print(x)\n",
    "print(\"Test whether any of the elements of a given array is non-zero:\")\n",
    "print(np.any(x))"
   ]
  },
  {
   "cell_type": "markdown",
   "metadata": {},
   "source": [
    "<a id='5'></a>\n",
    "### 5. Test whether none of the elements of a given array is zero\n",
    "[Back to top](#top)"
   ]
  },
  {
   "cell_type": "code",
   "execution_count": 8,
   "metadata": {},
   "outputs": [
    {
     "name": "stdout",
     "output_type": "stream",
     "text": [
      "Original array:\n",
      "[0 0 0 0]\n",
      "Test if none of the elements of the said array is zero:\n",
      "False\n",
      "Original array:\n",
      "[0 1 2 3]\n",
      "Test if none of the elements of the said array is zero:\n",
      "False\n"
     ]
    }
   ],
   "source": [
    "print(\"Original array:\")\n",
    "print(x)\n",
    "print(\"Test if none of the elements of the said array is zero:\")\n",
    "print(np.all(x))\n",
    "x = np.array([0, 1, 2, 3])\n",
    "print(\"Original array:\")\n",
    "print(x)\n",
    "print(\"Test if none of the elements of the said array is zero:\")\n",
    "print(np.all(x))"
   ]
  },
  {
   "cell_type": "markdown",
   "metadata": {},
   "source": [
    "<a id='6'></a>\n",
    "### 6. Create two arrays of size bigger and smaller than a given array\n",
    "[Back to top](#top)"
   ]
  },
  {
   "cell_type": "code",
   "execution_count": 9,
   "metadata": {},
   "outputs": [
    {
     "name": "stdout",
     "output_type": "stream",
     "text": [
      "Original arrays:\n",
      "[[ 0  1  2  3]\n",
      " [ 4  5  6  7]\n",
      " [ 8  9 10 11]\n",
      " [12 13 14 15]]\n",
      "\n",
      "Array with size 2x2 from the said array:\n",
      "[[0 1]\n",
      " [2 3]]\n",
      "\n",
      "Array with size 6x6 from the said array:\n",
      "[[ 0  1  2  3  4  5]\n",
      " [ 6  7  8  9 10 11]\n",
      " [12 13 14 15  0  1]\n",
      " [ 2  3  4  5  6  7]\n",
      " [ 8  9 10 11 12 13]\n",
      " [14 15  0  1  2  3]]\n"
     ]
    }
   ],
   "source": [
    "x = np.arange(16).reshape(4,4)\n",
    "print(\"Original arrays:\")\n",
    "print(x)\n",
    "print(\"\\nArray with size 2x2 from the said array:\")\n",
    "new_array1 = np.resize(x,(2,2))\n",
    "print(new_array1)\n",
    "print(\"\\nArray with size 6x6 from the said array:\")\n",
    "new_array2 = np.resize(x,(6,6))\n",
    "print(new_array2)"
   ]
  },
  {
   "cell_type": "markdown",
   "metadata": {},
   "source": [
    "<a id='7'></a>\n",
    "### 7. Create an array that represents the rank of each item of a given array.\n",
    "[Back to top](#top)"
   ]
  },
  {
   "cell_type": "code",
   "execution_count": 27,
   "metadata": {},
   "outputs": [
    {
     "name": "stdout",
     "output_type": "stream",
     "text": [
      "Original array:\n",
      "[24 27 30 29 18 14]\n",
      "\n",
      "Indices of sorted array:  [5 4 0 1 3 2]\n",
      "\n",
      "Create array like the given array:  [5 4 0 1 3 2]\n",
      "\n",
      "Rank of each item of the said array:\n",
      "[2 3 5 4 1 0]\n"
     ]
    }
   ],
   "source": [
    "array = np.array([24, 27, 30, 29, 18, 14])\n",
    "print(\"Original array:\")\n",
    "print(array)\n",
    "\n",
    "argsort_array = array.argsort()\n",
    "print('\\nIndices of sorted array: ',argsort_array)\n",
    "\n",
    "ranks_array = np.empty_like(argsort_array)\n",
    "print('\\nCreate array like the given array: ',ranks_array)\n",
    "\n",
    "ranks_array[argsort_array] = np.arange(len(array))\n",
    "print(\"\\nRank of each item of the said array:\")\n",
    "print(ranks_array)"
   ]
  },
  {
   "cell_type": "markdown",
   "metadata": {},
   "source": [
    "<a id='8'></a>\n",
    "### 8. Count number of occurrences of each value in a given array of non-negative integers.\n",
    "[Back to top](#top)"
   ]
  },
  {
   "cell_type": "code",
   "execution_count": 29,
   "metadata": {},
   "outputs": [
    {
     "name": "stdout",
     "output_type": "stream",
     "text": [
      "Original array:\n",
      "[0, 1, 6, 1, 4, 1, 2, 2, 7]\n",
      "Number of occurrences of each value in array: \n",
      "[1 3 2 0 1 0 1 1]\n"
     ]
    }
   ],
   "source": [
    "array1 = [0, 1, 6, 1, 4, 1, 2, 2, 7] \n",
    "print(\"Original array:\")\n",
    "print(array1)\n",
    "print(\"Number of occurrences of each value in array: \")\n",
    "print(np.bincount(array1))"
   ]
  },
  {
   "cell_type": "markdown",
   "metadata": {},
   "source": [
    "<a id='9'></a>\n",
    "### 9. Count the number of specified character in a given array\n",
    "[Back to top](#top)"
   ]
  },
  {
   "cell_type": "code",
   "execution_count": 30,
   "metadata": {},
   "outputs": [
    {
     "name": "stdout",
     "output_type": "stream",
     "text": [
      "\n",
      "Original Array:\n",
      "['Python' 'PHP' 'JS' 'examples' 'html']\n",
      "Number of ‘P’:\n",
      "[1 2 0 0 0]\n"
     ]
    }
   ],
   "source": [
    "x1 = np.array(['Python', 'PHP', 'JS', 'examples', 'html'], dtype=np.str)\n",
    "print(\"\\nOriginal Array:\")\n",
    "print(x1)\n",
    "print(\"Number of ‘P’:\")\n",
    "r = np.char.count(x1, \"P\")\n",
    "print(r)"
   ]
  },
  {
   "cell_type": "markdown",
   "metadata": {},
   "source": [
    "<a id='10'></a>\n",
    "### 10.  Create a 5X2 integer array from a range between 100 to 200 such that the difference between each element is 10\n",
    "[Back to top](#top)"
   ]
  },
  {
   "cell_type": "code",
   "execution_count": 32,
   "metadata": {},
   "outputs": [
    {
     "name": "stdout",
     "output_type": "stream",
     "text": [
      "Creating 5X2 array using numpy.arange\n",
      "[[100 110]\n",
      " [120 130]\n",
      " [140 150]\n",
      " [160 170]\n",
      " [180 190]]\n"
     ]
    }
   ],
   "source": [
    "print(\"Creating 5X2 array using numpy.arange\")\n",
    "sampleArray = np.arange(100, 200, 10)\n",
    "sampleArray = sampleArray.reshape(5,2)\n",
    "print (sampleArray)"
   ]
  }
 ],
 "metadata": {
  "kernelspec": {
   "display_name": "Python 3",
   "language": "python",
   "name": "python3"
  },
  "language_info": {
   "codemirror_mode": {
    "name": "ipython",
    "version": 3
   },
   "file_extension": ".py",
   "mimetype": "text/x-python",
   "name": "python",
   "nbconvert_exporter": "python",
   "pygments_lexer": "ipython3",
   "version": "3.7.3"
  }
 },
 "nbformat": 4,
 "nbformat_minor": 2
}
