{
 "cells": [
  {
   "cell_type": "markdown",
   "metadata": {},
   "source": [
    "<a id='top'></a>\n",
    "<h1 style='text-align:center'>Numpy Basics</h1>\n",
    "\n",
    "### Contents\n",
    "\n",
    "* [Initializing Numpy Array](#initialize)<br>\n",
    "* [Set the data type of the element](#datatype)<br>\n",
    "* [Returns the shape of the array](#shape)<br>\n",
    "* [Initializing range of elements](#range)<br>\n",
    "* [Reshaping Array](#reshape)<br>\n",
    "* [size,itemsize and ndim](#size)<br>\n",
    "* [creating array](#create)<br>\n",
    "* [Indexing and Slicing](#slice)<br>\n",
    "* [Iterating over Array](#iterate)<br>\n",
    "* [Joining Arrays](#join)<br>\n",
    "* [Splitting Arrays](#split)<br>\n",
    "* [Append,Insert and Delete Elements](#append)<br>\n",
    "* [Copy and Views](#copy)<br>"
   ]
  },
  {
   "cell_type": "markdown",
   "metadata": {},
   "source": [
    "<a id='initialize'></a>\n",
    "### Initializing Numpy Array\n",
    "[Back to top](#top)"
   ]
  },
  {
   "cell_type": "code",
   "execution_count": 4,
   "metadata": {},
   "outputs": [
    {
     "name": "stdout",
     "output_type": "stream",
     "text": [
      "\n",
      "One dimension:\n",
      "[1 2 3]\n",
      "\n",
      "Two dimension:\n",
      "[[1 2 3]\n",
      " [4 5 6]]\n",
      "\n",
      "Three dimension:\n",
      "[[[ 1  2  3]\n",
      "  [ 4  5  6]]\n",
      "\n",
      " [[ 7  8  9]\n",
      "  [10 11 12]]]\n"
     ]
    }
   ],
   "source": [
    "import numpy as np\n",
    "\n",
    "#One dimensional\n",
    "arr1 = np.array([1,2,3])\n",
    "#Two dimensional\n",
    "arr2 = np.array([[1,2,3],[4,5,6]])\n",
    "#Three dimensional\n",
    "arr3 = np.array([[[1,2,3],[4,5,6]],\n",
    "                [[7,8,9],[10,11,12]]])\n",
    "\n",
    "print('\\nOne dimension:')\n",
    "print(arr1)\n",
    "print('\\nTwo dimension:')\n",
    "print(arr2)\n",
    "print('\\nThree dimension:')\n",
    "print(arr3)"
   ]
  },
  {
   "cell_type": "markdown",
   "metadata": {},
   "source": [
    "<a id='datatype'></a>\n",
    "### Set the data type of the element\n",
    "[Back to top](#top)"
   ]
  },
  {
   "cell_type": "code",
   "execution_count": 64,
   "metadata": {},
   "outputs": [
    {
     "name": "stdout",
     "output_type": "stream",
     "text": [
      "int16\n",
      "int16\n",
      "[(b'owen', 20) (b'mark', 19)]\n"
     ]
    }
   ],
   "source": [
    "#int8, int16, int32, int64 can be replaced by equivalent string 'i1', 'i2','i4', etc.\n",
    "\n",
    "arr1 = np.array([1,2,3],dtype='int16')\n",
    "arr2 = np.array([1,2,3],dtype=np.int16)\n",
    "print(arr1.dtype)\n",
    "print(arr2.dtype)\n",
    "\n",
    "arr3 = np.array([('owen',20),('mark',19)],dtype=np.dtype([('name','S20'),('age','int16')]))\n",
    "print(arr3)"
   ]
  },
  {
   "cell_type": "markdown",
   "metadata": {},
   "source": [
    "<a id='shape'></a>\n",
    "### Returns the shape of the array\n",
    "[Back to top](#top)"
   ]
  },
  {
   "cell_type": "code",
   "execution_count": 66,
   "metadata": {},
   "outputs": [
    {
     "name": "stdout",
     "output_type": "stream",
     "text": [
      "(3,)\n",
      "(2, 3)\n",
      "(2, 2, 3)\n"
     ]
    }
   ],
   "source": [
    "#One dimensional\n",
    "arr1 = np.array([1,2,3])\n",
    "#Two dimensional\n",
    "arr2 = np.array([[1,2,3],[4,5,6]])\n",
    "#Three dimensional\n",
    "arr3 = np.array([[[1,2,3],[4,5,6]],\n",
    "                [[7,8,9],[10,11,12]]])\n",
    "\n",
    "print(arr1.shape)\n",
    "print(arr2.shape)\n",
    "print(arr3.shape)"
   ]
  },
  {
   "cell_type": "markdown",
   "metadata": {},
   "source": [
    "<a id='range'></a>\n",
    "### Initializing range of elements\n",
    "[Back to top](#top)"
   ]
  },
  {
   "cell_type": "code",
   "execution_count": 63,
   "metadata": {},
   "outputs": [
    {
     "name": "stdout",
     "output_type": "stream",
     "text": [
      "Python List\n",
      "[0, 1, 2, 3, 4, 5, 6, 7, 8, 9, 10, 11, 12, 13, 14, 15, 16, 17, 18, 19]\n",
      "\n",
      "Numpy array\n",
      "[ 0  1  2  3  4  5  6  7  8  9 10 11 12 13 14 15 16 17 18 19]\n",
      "[ 0  2  4  6  8 10 12 14 16 18 20 22 24 26 28]\n",
      "\n",
      "numpy linspace\n",
      "[ 0.   2.5  5.   7.5 10. ]\n",
      "[0. 2. 4. 6. 8.]\n",
      "(array([ 0. ,  2.5,  5. ,  7.5, 10. ]), 2.5)\n"
     ]
    }
   ],
   "source": [
    "#range in plain python\n",
    "arr1 = range(20)\n",
    "print('Python List')\n",
    "print([i for i in arr1])\n",
    "\n",
    "#range in numpy\n",
    "print('\\nNumpy array')\n",
    "arr1 = np.arange(20)\n",
    "print(arr1)\n",
    "arr2 = np.arange(0,30,2)\n",
    "print(arr2)\n",
    "\n",
    "print('\\nnumpy linspace')\n",
    "arr3 = np.linspace(0,10,5)\n",
    "print(arr3)\n",
    "arr4 = np.linspace(0,10,5,endpoint=False) #stop value not included\n",
    "print(arr4)\n",
    "arr5 = np.linspace(0,10,5,retstep=True) #returns the step value\n",
    "print(arr5)"
   ]
  },
  {
   "cell_type": "markdown",
   "metadata": {},
   "source": [
    "<a id='reshape'></a>\n",
    "### Reshaping Array\n",
    "[Back to top](#top)"
   ]
  },
  {
   "cell_type": "code",
   "execution_count": 30,
   "metadata": {},
   "outputs": [
    {
     "name": "stdout",
     "output_type": "stream",
     "text": [
      "Using shape\n",
      "[[ 0  1  2  3  4]\n",
      " [ 5  6  7  8  9]\n",
      " [10 11 12 13 14]]\n",
      "\n",
      "Using reshape sample 1\n",
      "[ 0  1  2  3  4  5  6  7  8  9 10 11 12 13 14]\n",
      "\n",
      "Using reshape sample 2\n",
      "[[ 0  1  2  3  4]\n",
      " [ 5  6  7  8  9]\n",
      " [10 11 12 13 14]]\n",
      "\n",
      "Flatten the array\n",
      "[ 0  1  2  3  4  5  6  7  8  9 10 11 12 13 14]\n",
      "[ 0  1  2  3  4  5  6  7  8  9 10 11 12 13 14]\n"
     ]
    }
   ],
   "source": [
    "# using shape - does affect the original array\n",
    "arr1 = np.arange(15)\n",
    "arr1.shape = (3,5)\n",
    "print('Using shape')\n",
    "print(arr1)\n",
    "\n",
    "#using reshape - does not affect the original array ... must be initialized in another variable\n",
    "\n",
    "#resizing the array using reshape but with the style of shape\n",
    "arr2 = np.arange(15)\n",
    "arr2.reshape(3,5)\n",
    "print('\\nUsing reshape sample 1')\n",
    "print(arr2)\n",
    "\n",
    "arr3 = np.arange(15)\n",
    "arr3 = arr3.reshape(3,5)\n",
    "print('\\nUsing reshape sample 2')\n",
    "print(arr3)\n",
    "\n",
    "print('\\nFlatten the array')\n",
    "arr4 = np.arange(15).reshape(3,5)\n",
    "print(arr4.ravel())\n",
    "print(arr4.flatten())"
   ]
  },
  {
   "cell_type": "markdown",
   "metadata": {},
   "source": [
    "<a id='size'></a>\n",
    "### size,itemsize and ndim\n",
    "[Back to top](#top)"
   ]
  },
  {
   "cell_type": "code",
   "execution_count": 86,
   "metadata": {},
   "outputs": [
    {
     "name": "stdout",
     "output_type": "stream",
     "text": [
      "size returns the number of items regardless of dimension of the array\n",
      "itemsize return the number of bytes of each element in the array\n",
      "\n",
      "One dimensional array:\n",
      " [ 0  1  2  3  4  5  6  7  8  9 10 11 12 13 14]\n",
      "Size:  15\n",
      "Item Size:  4\n",
      "Dimension:  1\n",
      "\n",
      "Two dimensional array:\n",
      " [[ 0  1  2  3  4]\n",
      " [ 5  6  7  8  9]\n",
      " [10 11 12 13 14]]\n",
      "Size:  15\n",
      "Item Size:  4\n",
      "Dimension:  2\n",
      "\n",
      "Three dimensional array:\n",
      " [[[ 0  1  2]\n",
      "  [ 3  4  5]\n",
      "  [ 6  7  8]]\n",
      "\n",
      " [[ 9 10 11]\n",
      "  [12 13 14]\n",
      "  [15 16 17]]]\n",
      "Size:  18\n",
      "Item Size:  4\n",
      "Dimension:  3\n"
     ]
    }
   ],
   "source": [
    "arr1 = np.arange(15)\n",
    "arr2 = np.arange(15).reshape(3,5)\n",
    "arr3 = np.arange(18).reshape(2,3,3)\n",
    "\n",
    "print('size returns the number of items regardless of dimension of the array')\n",
    "print('itemsize return the number of bytes of each element in the array\\n')\n",
    "print('One dimensional array:\\n',arr1)\n",
    "print('Size: ',arr1.size)\n",
    "print('Item Size: ',arr1.itemsize)\n",
    "print('Dimension: ',arr1.ndim)\n",
    "print('\\nTwo dimensional array:\\n',arr2)\n",
    "print('Size: ',arr2.size)\n",
    "print('Item Size: ',arr2.itemsize)\n",
    "print('Dimension: ',arr2.ndim)\n",
    "print('\\nThree dimensional array:\\n',arr3)\n",
    "print('Size: ',arr3.size)\n",
    "print('Item Size: ',arr3.itemsize)\n",
    "print('Dimension: ',arr3.ndim)"
   ]
  },
  {
   "cell_type": "markdown",
   "metadata": {},
   "source": [
    "<a id='create'></a>\n",
    "### create arrays\n",
    "[Back to top](#top)"
   ]
  },
  {
   "cell_type": "code",
   "execution_count": 5,
   "metadata": {},
   "outputs": [
    {
     "name": "stdout",
     "output_type": "stream",
     "text": [
      "empty:\n",
      " [[1 1 1]\n",
      " [1 1 1]\n",
      " [1 1 1]]\n",
      "\n",
      "zeros:\n",
      " [[0 0 0]\n",
      " [0 0 0]\n",
      " [0 0 0]]\n",
      "\n",
      "ones:\n",
      " [[1 1 1]\n",
      " [1 1 1]\n",
      " [1 1 1]]\n",
      "\n",
      "random:\n",
      " [[8 8 4]\n",
      " [6 6 2]\n",
      " [2 8 7]]\n",
      "\n",
      "full:\n",
      " [[3 3 3]\n",
      " [3 3 3]\n",
      " [3 3 3]]\n"
     ]
    }
   ],
   "source": [
    "arr1 = np.empty([3,3],dtype='int')\n",
    "arr2 = np.zeros((3,3),dtype='int')\n",
    "arr3 = np.ones((3,3),dtype='int')\n",
    "arr4 = np.random.randint((10),size=(3,3))\n",
    "arr5 = np.full((3,3),3)\n",
    "\n",
    "print('empty:\\n',arr1)\n",
    "print('\\nzeros:\\n',arr2)\n",
    "print('\\nones:\\n',arr3)\n",
    "print('\\nrandom:\\n',arr4)\n",
    "print('\\nfull:\\n',arr5)"
   ]
  },
  {
   "cell_type": "markdown",
   "metadata": {},
   "source": [
    "<a id='slice'></a>\n",
    "### Indexing and Slicing\n",
    "[Back to top](#top)"
   ]
  },
  {
   "cell_type": "code",
   "execution_count": 33,
   "metadata": {},
   "outputs": [
    {
     "name": "stdout",
     "output_type": "stream",
     "text": [
      "Sample Array\n",
      " [[ 0  1  2  3  4  5]\n",
      " [ 6  7  8  9 10 11]\n",
      " [12 13 14 15 16 17]\n",
      " [18 19 20 21 22 23]]\n",
      "\n",
      "2nd row,3rd element:  8\n",
      "\n",
      "3rd row,2nd element and 2nd to the last element:\n",
      " [13 16]\n",
      "\n",
      "3rd column until end:\n",
      " [[ 2  3  4  5]\n",
      " [ 8  9 10 11]\n",
      " [14 15 16 17]\n",
      " [20 21 22 23]]\n",
      "\n",
      "First column and last column:\n",
      " [[ 0  5]\n",
      " [ 6 11]\n",
      " [12 17]\n",
      " [18 23]]\n",
      "\n",
      "Elements in corners:\n",
      " [[ 0  5]\n",
      " [18 23]]\n",
      "\n",
      "Odd elements:\n",
      " [ 1  3  5  7  9 11 13 15 17 19 21 23]\n"
     ]
    }
   ],
   "source": [
    "arr1 = np.arange(24).reshape(4,6)\n",
    "\n",
    "print('Sample Array\\n',arr1)\n",
    "\n",
    "print('\\n2nd row,3rd element: ',arr1[1,2])\n",
    "print('\\n3rd row,2nd element and 2nd to the last element:\\n',arr1[2,[1,-2]])\n",
    "print('\\n3rd column until end:\\n',arr1[:,2:])\n",
    "print('\\nFirst column and last column:\\n',np.transpose(np.hstack(arr1[:,[[0],[-1]]])))\n",
    "print('\\nElements in corners:\\n',arr1[[[0],[-1]],[[0,-1],[0,-1]]])\n",
    "print('\\nOdd elements:\\n',arr1[arr1%2!=0])\n"
   ]
  },
  {
   "cell_type": "markdown",
   "metadata": {},
   "source": [
    "<a id='iterate'></a>\n",
    "### Iterating over array\n",
    "[Back to top](#top)"
   ]
  },
  {
   "cell_type": "code",
   "execution_count": 18,
   "metadata": {},
   "outputs": [
    {
     "name": "stdout",
     "output_type": "stream",
     "text": [
      "Sample array:\n",
      " [[ 0  1  2  3  4]\n",
      " [ 5  6  7  8  9]\n",
      " [10 11 12 13 14]]\n",
      "\n",
      "0 1 2 3 4 5 6 7 8 9 10 11 12 13 14 \n",
      "0 1 2 3 4 5 6 7 8 9 10 11 12 13 14 \n",
      "0 5 10 1 6 11 2 7 12 3 8 13 4 9 14 "
     ]
    }
   ],
   "source": [
    "arr1 = np.arange(15).reshape(3,5)\n",
    "print('Sample array:\\n',arr1)\n",
    "print()\n",
    "\n",
    "for i in np.nditer(arr1): print(i,end=' ')\n",
    "print()\n",
    "for i in np.nditer(arr1,order='C'): print(i,end=' ')\n",
    "print()\n",
    "for i in np.nditer(arr1,order='F'): print(i,end=' ')"
   ]
  },
  {
   "cell_type": "markdown",
   "metadata": {},
   "source": [
    "<a id='join'></a>\n",
    "### Joining Arrays\n",
    "[Back to top](#top)"
   ]
  },
  {
   "cell_type": "code",
   "execution_count": 81,
   "metadata": {},
   "outputs": [
    {
     "name": "stdout",
     "output_type": "stream",
     "text": [
      "Note: There could be one or more arrays in the parameter. vstack and hstack does not need to specify the axis.\n",
      "\n",
      "First Array:\n",
      " [[1 2]\n",
      " [3 4]]\n",
      "Second Array:\n",
      " [[5 6]\n",
      " [7 8]]\n",
      "\n",
      "Concatenate arrays in axis 0:\n",
      " [[1 2]\n",
      " [3 4]\n",
      " [5 6]\n",
      " [7 8]]\n",
      "\n",
      "Concatenate arrays in axis 1:\n",
      " [[1 2 5 6]\n",
      " [3 4 7 8]]\n",
      "\n",
      "Stacks\n",
      "\n",
      "stack: add a new axis\n",
      " [[[1 2]\n",
      "  [3 4]]\n",
      "\n",
      " [[5 6]\n",
      "  [7 8]]]\n",
      "\n",
      "vstack:\n",
      " [[1 2]\n",
      " [3 4]\n",
      " [5 6]\n",
      " [7 8]]\n",
      "\n",
      "hstack:\n",
      " [[1 2 5 6]\n",
      " [3 4 7 8]]\n",
      "\n",
      "Third Array:\n",
      " [[ 1  2  3  4]\n",
      " [ 5  6  7  8]\n",
      " [ 9 10 11 12]]\n",
      "\n",
      "concatenate rows in third array using concatenate:\n",
      " [ 1  2  3  4  5  6  7  8  9 10 11 12]\n",
      "\n",
      "concatenate rows in third array using hstack:\n",
      " [ 1  2  3  4  5  6  7  8  9 10 11 12]\n",
      "\n",
      "Joining first and second array using append:\n",
      " [1 2 3 4 5 6 7 8]\n"
     ]
    }
   ],
   "source": [
    "arr1 = np.arange(1,5).reshape(2,2)\n",
    "arr2 = np.arange(5,9).reshape(2,2)\n",
    "print('Note: There could be one or more arrays in the parameter. vstack and hstack does not need to specify the axis.\\n')\n",
    "print('First Array:\\n',arr1)\n",
    "print('Second Array:\\n',arr2)\n",
    "print('\\nConcatenate arrays in axis 0:\\n',np.concatenate((arr1,arr2)))\n",
    "print('\\nConcatenate arrays in axis 1:\\n',np.concatenate((arr1,arr2),axis=1))\n",
    "print('\\nStacks\\n')\n",
    "print('stack: add a new axis\\n',np.stack((arr1,arr2)))\n",
    "print('\\nvstack:\\n',np.vstack((arr1,arr2)))\n",
    "print('\\nhstack:\\n',np.hstack((arr1,arr2)))\n",
    "arr3 = np.arange(1,13).reshape(3,4)\n",
    "print('\\nThird Array:\\n',arr3)\n",
    "print('\\nconcatenate rows in third array using concatenate:\\n',np.concatenate(arr3))\n",
    "print('\\nconcatenate rows in third array using hstack:\\n',np.hstack(arr3))\n",
    "print('\\nJoining first and second array using append:\\n',np.append(arr1,arr2))"
   ]
  },
  {
   "cell_type": "markdown",
   "metadata": {},
   "source": [
    "<a id='split'></a>\n",
    "### Splitting Arrays\n",
    "[Back to top](#top)"
   ]
  },
  {
   "cell_type": "code",
   "execution_count": 76,
   "metadata": {},
   "outputs": [
    {
     "name": "stdout",
     "output_type": "stream",
     "text": [
      "Sample Array 1:\n",
      " [ 1  2  3  4  5  6  7  8  9 10 11 12]\n",
      "\n",
      "Splitting the array into 3:\n",
      " [array([1, 2, 3, 4]), array([5, 6, 7, 8]), array([ 9, 10, 11, 12])]\n",
      "\n",
      "Sample Array 2:\n",
      " [[ 1  2  3  4]\n",
      " [ 5  6  7  8]\n",
      " [ 9 10 11 12]\n",
      " [13 14 15 16]]\n",
      "\n",
      "Splitting the array using hsplit:\n",
      " [array([[ 1,  2],\n",
      "       [ 5,  6],\n",
      "       [ 9, 10],\n",
      "       [13, 14]]), array([[ 3,  4],\n",
      "       [ 7,  8],\n",
      "       [11, 12],\n",
      "       [15, 16]])]\n",
      "\n",
      "Splitting the array using vsplit:\n",
      " [array([[1, 2, 3, 4],\n",
      "       [5, 6, 7, 8]]), array([[ 9, 10, 11, 12],\n",
      "       [13, 14, 15, 16]])]\n"
     ]
    }
   ],
   "source": [
    "arr1 = np.arange(1,13)\n",
    "print('Sample Array 1:\\n',arr1)\n",
    "print('\\nSplitting the array into 3:\\n',np.split(arr1,3))\n",
    "\n",
    "arr2 = np.arange(1,17).reshape(4,4)\n",
    "print('\\nSample Array 2:\\n',arr2)\n",
    "print('\\nSplitting the array using hsplit:\\n',np.hsplit(arr2,2))\n",
    "print('\\nSplitting the array using vsplit:\\n',np.vsplit(arr2,2))"
   ]
  },
  {
   "cell_type": "markdown",
   "metadata": {},
   "source": [
    "<a id='append'></a>\n",
    "### Append,Insert and Delete Elements\n",
    "[Back to top](#top)"
   ]
  },
  {
   "cell_type": "code",
   "execution_count": 3,
   "metadata": {},
   "outputs": [
    {
     "name": "stdout",
     "output_type": "stream",
     "text": [
      "Sample Array 1:\n",
      " [[ 1  2  3  4]\n",
      " [ 5  6  7  8]\n",
      " [ 9 10 11 12]]\n",
      "\n",
      "Sample Array 2:\n",
      " [0 1 2 3]\n",
      "\n",
      "Append array2 to array1:\n",
      " [ 1  2  3  4  5  6  7  8  9 10 11 12  0  1  2  3]\n",
      "\n",
      "Insert array2 to array1:\n",
      " [ 1  2  3  0  1  2  3  4  5  6  7  8  9 10 11 12]\n",
      "\n",
      "Delete array2(as index) to array1:\n",
      " [ 5  6  7  8  9 10 11 12]\n",
      "\n",
      "Append array3 to array1:\n",
      " [[ 1  2  3  4]\n",
      " [ 5  6  7  8]\n",
      " [ 9 10 11 12]\n",
      " [ 0  1  2  3]]\n",
      "\n",
      "Insert array3 to array1 in row 3:\n",
      " [[ 1  2  3  4]\n",
      " [ 5  6  7  8]\n",
      " [ 0  1  2  3]\n",
      " [ 9 10 11 12]]\n",
      "\n",
      "Delete 2nd row of array1:\n",
      " [[ 1  2  3  4]\n",
      " [ 9 10 11 12]]\n",
      "\n",
      "Delete 2nd column of array1:\n",
      " [[ 1  3  4]\n",
      " [ 5  7  8]\n",
      " [ 9 11 12]]\n"
     ]
    }
   ],
   "source": [
    "arr1 = np.arange(1,13).reshape(3,4)\n",
    "arr2 = np.arange(4)\n",
    "print('Sample Array 1:\\n',arr1)\n",
    "print('\\nSample Array 2:\\n',arr2)\n",
    "print('\\nAppend array2 to array1:\\n',np.append(arr1,arr2))\n",
    "print('\\nInsert array2 to array1:\\n',np.insert(arr1,3,arr2))\n",
    "print('\\nDelete array2(as index) to array1:\\n',np.delete(arr1,arr2))\n",
    "\n",
    "arr3 = np.expand_dims(np.arange(4),axis=0)\n",
    "print('\\nAppend array3 to array1:\\n',np.append(arr1,arr3,axis=0))\n",
    "print('\\nInsert array3 to array1 in row 3:\\n',np.insert(arr1,2,arr3,axis=0))\n",
    "print('\\nDelete 2nd row of array1:\\n',np.delete(arr1,1,axis=0))\n",
    "print('\\nDelete 2nd column of array1:\\n',np.delete(arr1,1,axis=1))"
   ]
  },
  {
   "cell_type": "markdown",
   "metadata": {},
   "source": [
    "<a id='copy'></a>\n",
    "### Copy and Views\n",
    "[Back to top](#top)"
   ]
  },
  {
   "cell_type": "code",
   "execution_count": 50,
   "metadata": {},
   "outputs": [
    {
     "name": "stdout",
     "output_type": "stream",
     "text": [
      "Array 1:\n",
      " [[ 1  2  3  4]\n",
      " [ 5  6  7  8]\n",
      " [ 9 10 11 12]]\n",
      "\n",
      "arr2 = arr1:\n",
      "\n",
      "Array 2:\n",
      " [[ 1  2  3  4]\n",
      " [ 5  6  7  8]\n",
      " [ 9 10 11 12]]\n",
      "\n",
      "id(Array1): 1618175300672 == id(Array2): 1618175300672\n",
      "Array 1 == Array 2:  True\n"
     ]
    }
   ],
   "source": [
    "arr1 = np.arange(1,13).reshape(3,4)\n",
    "arr2 = arr1\n",
    "print('Array 1:\\n',arr1)\n",
    "print('\\narr2 = arr1:')\n",
    "print('\\nArray 2:\\n',arr2)\n",
    "print('\\nid(Array1):',id(arr1),'==','id(Array2):',id(arr2))\n",
    "print('Array 1 == Array 2: ',id(arr1)==id(arr2))"
   ]
  },
  {
   "cell_type": "code",
   "execution_count": 65,
   "metadata": {},
   "outputs": [
    {
     "name": "stdout",
     "output_type": "stream",
     "text": [
      "Array 1:\n",
      " [[ 1  2  3  4]\n",
      " [ 5  6  7  8]\n",
      " [ 9 10 11 12]]\n",
      "\n",
      "arr2 = arr1.view():\n",
      "\n",
      "Array 2:\n",
      " [[ 1  2  3  4]\n",
      " [ 5  6  7  8]\n",
      " [ 9 10 11 12]]\n",
      "\n",
      "id(Array1): 1618175389984 == id(Array2): 1618175390864\n",
      "Array 1 == Array 2:  False\n",
      "\n",
      "Change in the values in the array also changes the values of the original.\n",
      "\n",
      "arr2[0]=[10,10,10,10]\n",
      "\n",
      "Array 2:\n",
      " [[10 10 10 10]\n",
      " [ 5  6  7  8]\n",
      " [ 9 10 11 12]]\n",
      "Array 1:\n",
      " [[10 10 10 10]\n",
      " [ 5  6  7  8]\n",
      " [ 9 10 11 12]]\n",
      "\n",
      "But change in dimensions of the array doesn’t change dimensions of the original.\n",
      "\n",
      "arr2.shape = (2,6)\n",
      "\n",
      "Array 2:\n",
      " [[10 10 10 10  5  6]\n",
      " [ 7  8  9 10 11 12]]\n",
      "Array 1:\n",
      " [[10 10 10 10]\n",
      " [ 5  6  7  8]\n",
      " [ 9 10 11 12]]\n"
     ]
    }
   ],
   "source": [
    "arr1 = np.arange(1,13).reshape(3,4)\n",
    "arr2 = arr1.view()\n",
    "print('Array 1:\\n',arr1)\n",
    "print('\\narr2 = arr1.view():')\n",
    "print('\\nArray 2:\\n',arr2)\n",
    "print('\\nid(Array1):',id(arr1),'==','id(Array2):',id(arr2))\n",
    "print('Array 1 == Array 2: ',id(arr1)==id(arr2))\n",
    "\n",
    "print('\\nChange in the values in the array also changes the values of the original.')\n",
    "print('\\narr2[0]=[10,10,10,10]')\n",
    "arr2[0]=[10,10,10,10]\n",
    "print('\\nArray 2:\\n',arr2)\n",
    "print('Array 1:\\n',arr1)\n",
    "\n",
    "print('\\nBut change in dimensions of the array doesn’t change dimensions of the original.')\n",
    "\n",
    "print('\\narr2.shape = (2,6)')\n",
    "arr2.shape = (2,6)\n",
    "print('\\nArray 2:\\n',arr2)\n",
    "print('Array 1:\\n',arr1)"
   ]
  },
  {
   "cell_type": "code",
   "execution_count": 64,
   "metadata": {},
   "outputs": [
    {
     "name": "stdout",
     "output_type": "stream",
     "text": [
      "Array 1:\n",
      " [[ 1  2  3  4]\n",
      " [ 5  6  7  8]\n",
      " [ 9 10 11 12]]\n",
      "\n",
      "arr2 = arr1.copy():\n",
      "\n",
      "Array 2:\n",
      " [[ 1  2  3  4]\n",
      " [ 5  6  7  8]\n",
      " [ 9 10 11 12]]\n",
      "\n",
      "id(Array1): 1618175390864 == id(Array2): 1618175390944\n",
      "Array 1 == Array 2:  False\n",
      "\n",
      "Change in the values in the array doesn't changes the values of the original.\n",
      "\n",
      "arr2[0]=[10,10,10,10]\n",
      "\n",
      "Array 2:\n",
      " [[10 10 10 10]\n",
      " [ 5  6  7  8]\n",
      " [ 9 10 11 12]]\n",
      "Array 1:\n",
      " [[ 1  2  3  4]\n",
      " [ 5  6  7  8]\n",
      " [ 9 10 11 12]]\n",
      "\n",
      "Change in dimensions of the array also doesn’t change dimensions of the original.\n",
      "\n",
      "arr2.shape = (2,6)\n",
      "\n",
      "Array 2:\n",
      " [[10 10 10 10  5  6]\n",
      " [ 7  8  9 10 11 12]]\n",
      "Array 1:\n",
      " [[ 1  2  3  4]\n",
      " [ 5  6  7  8]\n",
      " [ 9 10 11 12]]\n"
     ]
    }
   ],
   "source": [
    "arr1 = np.arange(1,13).reshape(3,4)\n",
    "arr2 = arr1.copy()\n",
    "print('Array 1:\\n',arr1)\n",
    "print('\\narr2 = arr1.copy():')\n",
    "print('\\nArray 2:\\n',arr2)\n",
    "print('\\nid(Array1):',id(arr1),'==','id(Array2):',id(arr2))\n",
    "print('Array 1 == Array 2: ',id(arr1)==id(arr2))\n",
    "\n",
    "print('\\nChange in the values in the array doesn\\'t changes the values of the original.')\n",
    "print('\\narr2[0]=[10,10,10,10]')\n",
    "arr2[0]=[10,10,10,10]\n",
    "print('\\nArray 2:\\n',arr2)\n",
    "print('Array 1:\\n',arr1)\n",
    "\n",
    "print('\\nChange in dimensions of the array also doesn’t change dimensions of the original.')\n",
    "\n",
    "print('\\narr2.shape = (2,6)')\n",
    "arr2.shape = (2,6)\n",
    "print('\\nArray 2:\\n',arr2)\n",
    "print('Array 1:\\n',arr1)"
   ]
  }
 ],
 "metadata": {
  "kernelspec": {
   "display_name": "Python 3",
   "language": "python",
   "name": "python3"
  },
  "language_info": {
   "codemirror_mode": {
    "name": "ipython",
    "version": 3
   },
   "file_extension": ".py",
   "mimetype": "text/x-python",
   "name": "python",
   "nbconvert_exporter": "python",
   "pygments_lexer": "ipython3",
   "version": "3.7.3"
  }
 },
 "nbformat": 4,
 "nbformat_minor": 2
}
