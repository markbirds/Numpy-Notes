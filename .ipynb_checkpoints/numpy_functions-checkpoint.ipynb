{
 "cells": [
  {
   "cell_type": "markdown",
   "metadata": {},
   "source": [
    "<a id='top'></a>\n",
    "<h1 style='text-align:center'>Numpy Functions</h1>\n",
    "\n",
    "### Contents\n",
    "\n",
    "* [String Functions](#string)<br>\n",
    "* [Arithmetic Operations](#arithmetic)<br>\n",
    "* [Statistical Functions](#statistical)<br>\n",
    "* [Sort](#sort)<br>\n",
    "* [Search](#search)<br>"
   ]
  },
  {
   "cell_type": "markdown",
   "metadata": {},
   "source": [
    "<a id='string'></a>\n",
    "### String Functions\n",
    "[Back to top](#top)"
   ]
  },
  {
   "cell_type": "code",
   "execution_count": 42,
   "metadata": {},
   "outputs": [
    {
     "name": "stdout",
     "output_type": "stream",
     "text": [
      "Difference between add and concatenate in strings: ['Hello']+['World']\n",
      "\n",
      "add:\n",
      " ['HelloWorld']\n",
      "\n",
      "concatenate:\n",
      " ['Hello' 'World']\n",
      "\n",
      "multiply word three times:\n",
      " ['HelloHelloHello']\n",
      "\n",
      "upper and lower:\n",
      " ['UPPER'] \n",
      " ['lower']\n",
      "\n",
      "split \"owen patrick falculan\" into array:\n",
      " ['mark', 'birds']\n",
      "\n",
      "join string with specified separator:\n",
      " m,a,r,k,b,i,r,d,s\n"
     ]
    }
   ],
   "source": [
    "import numpy as np\n",
    "\n",
    "print('Difference between add and concatenate in strings: [\\'Hello\\']+[\\'World\\']')\n",
    "print('\\nadd:\\n',np.char.add(['Hello'],['World']))\n",
    "print('\\nconcatenate:\\n',np.concatenate((['Hello'],['World'])))\n",
    "print('\\nmultiply word three times:\\n',np.char.multiply(['Hello'],3))\n",
    "print('\\nupper and lower:\\n',np.char.upper(['upper']),'\\n',np.char.lower(['LOWER']))\n",
    "print('\\nsplit \"owen patrick falculan\" into array:\\n',np.char.split('mark birds'))\n",
    "print('\\njoin string with specified separator:\\n',np.char.join(',','markbirds'))\n"
   ]
  },
  {
   "cell_type": "markdown",
   "metadata": {},
   "source": [
    "<a id='arithmetic'></a>\n",
    "### Arithmetic Operations\n",
    "[Back to top](#top)"
   ]
  },
  {
   "cell_type": "code",
   "execution_count": 44,
   "metadata": {},
   "outputs": [
    {
     "name": "stdout",
     "output_type": "stream",
     "text": [
      "Array 1:\n",
      " [[ 1  2  3  4]\n",
      " [ 5  6  7  8]\n",
      " [ 9 10 11 12]]\n",
      "\n",
      "Array 2:\n",
      " [5 5 5 5]\n",
      "\n",
      "using np.add():\n",
      " [[ 6  7  8  9]\n",
      " [10 11 12 13]\n",
      " [14 15 16 17]] \n",
      "using + operator:\n",
      " [[ 6  7  8  9]\n",
      " [10 11 12 13]\n",
      " [14 15 16 17]]\n",
      "\n",
      "np.subtract(arr1,arr2) == arr1-arr2\n",
      "\n",
      "np.multiply(arr1,arr2) == arr1*arr2\n",
      "\n",
      "np.divide(arr1,arr2) == arr1/arr2\n",
      "\n",
      "np.mod(arr1,arr2) == arr1%arr2\n",
      "\n",
      "np.power(arr1,arr2) == arr1**arr2\n"
     ]
    }
   ],
   "source": [
    "arr1 = np.arange(1,13).reshape(3,4)\n",
    "arr2 = np.array([5,5,5,5])\n",
    "print('Array 1:\\n',arr1)\n",
    "print('\\nArray 2:\\n',arr2)\n",
    "print('\\nusing np.add():\\n',np.add(arr1,arr2),'\\nusing + operator:\\n',arr1+arr2)\n",
    "print('\\nnp.subtract(arr1,arr2) == arr1-arr2')\n",
    "print('\\nnp.multiply(arr1,arr2) == arr1*arr2')\n",
    "print('\\nnp.divide(arr1,arr2) == arr1/arr2')\n",
    "print('\\nnp.mod(arr1,arr2) == arr1%arr2')\n",
    "print('\\nnp.power(arr1,arr2) == arr1**arr2')\n"
   ]
  },
  {
   "cell_type": "markdown",
   "metadata": {},
   "source": [
    "<a id='statistical'></a>\n",
    "### Statistical Functions\n",
    "[Back to top](#top)"
   ]
  },
  {
   "cell_type": "code",
   "execution_count": 92,
   "metadata": {},
   "outputs": [
    {
     "name": "stdout",
     "output_type": "stream",
     "text": [
      "Sample array:\n",
      " [[ 26  49  85 100  53  17  15  26  43  41]\n",
      " [ 82  12  72  46   5  16  49  94  54  32]\n",
      " [ 90  98  64  98  65   4  75  31  96  48]]\n",
      "\n",
      "Finding minimum value using np.amin (you can also use np.min):  4\n",
      "Finding maximum value using np.amax (you can also use np.max):  100\n",
      "\n",
      "Finding minimum value in each row:  [15  5  4]\n",
      "Finding maximum value in each row:  [100  94  98]\n",
      "\n",
      "Finding minimum value in each column:  [26 12 64 46  5  4 15 26 43 32]\n",
      "Finding maximum value in each column:  [ 90  98  85 100  65  17  75  94  96  48]\n",
      "\n",
      "Range from minimum to maximum:  96\n",
      "Range from minimum to maximum in each row:  [85 89 94]\n",
      "Range from minimum to maximum in each column:  [64 86 21 54 60 13 60 68 53 16]\n",
      "\n",
      "50th Percentile:  49.0\n",
      "50th Percentile in each row:  [42.  47.5 70. ]\n",
      "50th Percentile in each column:  [82. 49. 72. 98. 53. 16. 49. 31. 54. 41.]\n",
      "\n",
      "Median:  49.0\n",
      "Median in each row:  [42.  47.5 70. ]\n",
      "Median in each column:  [82. 49. 72. 98. 53. 16. 49. 31. 54. 41.]\n",
      "\n",
      "Mean/Average:  52.87\n",
      "Mean/Average in each row:  [45.5 46.2 66.9]\n",
      "Mean/Average in each column:  [66.   53.   73.67 81.33 41.   12.33 46.33 50.33 64.33 40.33]\n",
      "\n",
      "Weighted average of 1st row based on the corresponding weight of [4,3,2,1,2,3,4,1,4,3]: 39.22\n",
      "\n",
      "Standard Deviation:  30.2\n",
      "Standard Deviation of each row:  [26.7  28.78 29.99]\n",
      "Standard Deviation of each column:  [28.47 35.22  8.65 25.   25.92  5.91 24.57 30.94 22.84  6.55]\n",
      "\n",
      "Variance:  912.05\n"
     ]
    }
   ],
   "source": [
    "arr1 = np.random.randint(1,101,size=(3,10))\n",
    "print('Sample array:\\n',arr1)\n",
    "\n",
    "print('\\nFinding minimum value using np.amin (you can also use np.min): ',np.amin(arr1))\n",
    "print('Finding maximum value using np.amax (you can also use np.max): ',np.amax(arr1))\n",
    "\n",
    "print('\\nFinding minimum value in each row: ',np.amin(arr1,axis=1))\n",
    "print('Finding maximum value in each row: ',np.amax(arr1,axis=1))\n",
    "print('\\nFinding minimum value in each column: ',np.amin(arr1,axis=0))\n",
    "print('Finding maximum value in each column: ',np.amax(arr1,axis=0))\n",
    "\n",
    "print('\\nRange from minimum to maximum: ',np.ptp(arr1))\n",
    "print('Range from minimum to maximum in each row: ',np.ptp(arr1,axis=1))\n",
    "print('Range from minimum to maximum in each column: ',np.ptp(arr1,axis=0))\n",
    "\n",
    "print('\\n50th Percentile: ',np.percentile(arr1,50))\n",
    "print('50th Percentile in each row: ',np.percentile(arr1,50,axis=1))\n",
    "print('50th Percentile in each column: ',np.percentile(arr1,50,axis=0))\n",
    "\n",
    "print('\\nMedian: ',np.median(arr1))\n",
    "print('Median in each row: ',np.median(arr1,axis=1))\n",
    "print('Median in each column: ',np.median(arr1,axis=0))\n",
    "\n",
    "print('\\nMean/Average: ',round(np.mean(arr1),2))\n",
    "print('Mean/Average in each row: ',np.round(np.mean(arr1,axis=1),2))\n",
    "print('Mean/Average in each column: ',np.round(np.mean(arr1,axis=0),2))\n",
    "\n",
    "# round numbers in numpy using np.round/np.around,np.ceil,np.floor\n",
    "\n",
    "weights = np.array([4,3,2,1,2,3,4,1,4,3])\n",
    "print('\\nWeighted average of 1st row based on the corresponding weight of [4,3,2,1,2,3,4,1,4,3]: ',end='')\n",
    "print(np.round(np.average(arr1[0],weights=weights),2))\n",
    "\n",
    "print('\\nStandard Deviation: ',round(np.std(arr1),2))\n",
    "print('Standard Deviation of each row: ',np.round(np.std(arr1,axis=1),2))\n",
    "print('Standard Deviation of each column: ',np.round(np.std(arr1,axis=0),2))\n",
    "\n",
    "print('\\nVariance: ',round(np.var(arr1),2))"
   ]
  },
  {
   "cell_type": "markdown",
   "metadata": {},
   "source": [
    "<a id='sort'></a>\n",
    "### Sort\n",
    "[Back to top](#top)"
   ]
  },
  {
   "cell_type": "code",
   "execution_count": 103,
   "metadata": {},
   "outputs": [
    {
     "name": "stdout",
     "output_type": "stream",
     "text": [
      "Sample array:\n",
      " [[87 76 58 76 58 25  4 86 21 35]\n",
      " [72 68 58  1 27 55 71 43 35 33]\n",
      " [83 61 55 70 50  7 41 37  5 53]]\n",
      "\n",
      "Sorting sample array (flatten it first):\n",
      " [ 1  4  5  7 21 25 27 33 35 35 37 41 43 50 53 55 55 58 58 58 61 68 70 71\n",
      " 72 76 76 83 86 87]\n",
      "\n",
      "Sorting each row of sample array:\n",
      " [[ 4 21 25 35 58 58 76 76 86 87]\n",
      " [ 1 27 33 35 43 55 58 68 71 72]\n",
      " [ 5  7 37 41 50 53 55 61 70 83]]\n",
      "\n",
      "Sorting each column of sample array:\n",
      " [[72 61 55  1 27  7  4 37  5 33]\n",
      " [83 68 58 70 50 25 41 43 21 35]\n",
      " [87 76 58 76 58 55 71 86 35 53]]\n"
     ]
    }
   ],
   "source": [
    "arr1 = np.random.randint(1,101,size=(3,10))\n",
    "print('Sample array:\\n',arr1)\n",
    "\n",
    "print('\\nSorting sample array (flatten it first):\\n',np.sort(arr1.flatten()))\n",
    "print('\\nSorting each row of sample array:\\n',np.sort(arr1))\n",
    "print('\\nSorting each column of sample array:\\n',np.sort(arr1,axis=0))"
   ]
  },
  {
   "cell_type": "markdown",
   "metadata": {},
   "source": [
    "<a id='search'></a>\n",
    "### Search\n",
    "[Back to top](#top)"
   ]
  },
  {
   "cell_type": "code",
   "execution_count": 117,
   "metadata": {},
   "outputs": [
    {
     "name": "stdout",
     "output_type": "stream",
     "text": [
      "Sample array:\n",
      " [[ 24  35  43 100   3  43  17  50  31  38]\n",
      " [ 76  71  26  15  93  73  27  22  32  75]\n",
      " [ 59  24  94  77  83   9   2  45  65  47]]\n",
      "\n",
      "Index of minimum element: (seen as flattened array) 26\n",
      "\n",
      "Indices of minimum element in each row:  [4 3 6]\n",
      "Indices of minimum element in each column:  [0 2 1 1 0 2 2 1 0 0]\n",
      "\n",
      "Indices of maximum element in each row:  [3 4 2]\n",
      "Indices of maximum element in each column:  [1 1 2 0 1 1 1 0 2 1]\n",
      "\n",
      "Indices of elements greater than 50:\n",
      " [0 1 1 1 1 1 2 2 2 2 2] \n",
      " [3 0 1 4 5 9 0 2 3 4 8]\n",
      "\n",
      "Using arr[arr>50]:\n",
      " [100  76  71  93  73  75  59  94  77  83  65]\n"
     ]
    }
   ],
   "source": [
    "arr1 = np.random.randint(1,101,size=(3,10))\n",
    "print('Sample array:\\n',arr1)\n",
    "\n",
    "print('\\nIndex of minimum element: (seen as flattened array)',np.argmin(arr1))\n",
    "print('\\nIndices of minimum element in each row: ',np.argmin(arr1,axis=1))\n",
    "print('Indices of minimum element in each column: ',np.argmin(arr1,axis=0))\n",
    "\n",
    "print('\\nIndices of maximum element in each row: ',np.argmax(arr1,axis=1))\n",
    "print('Indices of maximum element in each column: ',np.argmax(arr1,axis=0))\n",
    "\n",
    "print('\\nIndices of elements greater than 50:\\n',np.where(arr1>50)[0],'\\n',np.where(arr1>50)[1])\n",
    "print('\\nUsing arr[arr>50]:\\n',arr1[arr1>50])"
   ]
  },
  {
   "cell_type": "code",
   "execution_count": null,
   "metadata": {},
   "outputs": [],
   "source": []
  }
 ],
 "metadata": {
  "kernelspec": {
   "display_name": "Python 3",
   "language": "python",
   "name": "python3"
  },
  "language_info": {
   "codemirror_mode": {
    "name": "ipython",
    "version": 3
   },
   "file_extension": ".py",
   "mimetype": "text/x-python",
   "name": "python",
   "nbconvert_exporter": "python",
   "pygments_lexer": "ipython3",
   "version": "3.7.3"
  }
 },
 "nbformat": 4,
 "nbformat_minor": 2
}
