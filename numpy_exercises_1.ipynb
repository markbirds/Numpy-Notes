{
 "cells": [
  {
   "cell_type": "markdown",
   "metadata": {},
   "source": [
    "<a id='top'></a>\n",
    "<h1 style='text-align:center'>Numpy Exercises 1</h1>\n",
    "\n",
    "### Exercises\n",
    "\n",
    "1. [Replace all odd numbers in arr with -1 without changing arr](#1)\n",
    "2. [Convert a 1D array to a 2D array with 2 rows](#2)\n",
    "3. [Create the following pattern without hardcoding](#3)\n",
    "4. [From array a remove all items present in array b](#4)\n",
    "5. [Get the positions where elements of a and b match](#5)\n",
    "6. [Get all items between 5 and 10 from a](#6)\n",
    "7. [Swap columns 1 and 2 in the array arr / swap rows 1 and 2 in the array arr](#7)\n",
    "8. [Reverse the rows/columns of a 2D array arr](#8)\n",
    "9. [Create a 2D array of shape 5x3 to contain random decimal numbers between 5 and 10](#9)\n",
    "10. [Print or show only 3 decimal places of the numpy array rand_arr](#10)"
   ]
  },
  {
   "cell_type": "markdown",
   "metadata": {},
   "source": [
    "<a id='1'></a>\n",
    "### 1. Replace all odd numbers in arr with -1 without changing arr\n",
    "\n",
    "Input:\n",
    "\n",
    "arr = np.array([0, 1, 2, 3, 4, 5, 6, 7, 8, 9])\n",
    "\n",
    "Desired Output:\n",
    "\n",
    "out\n",
    "\n",
    "#>  array([ 0, -1,  2, -1,  4, -1,  6, -1,  8, -1])\n",
    "\n",
    "arr\n",
    "\n",
    "#>  array([0, 1, 2, 3, 4, 5, 6, 7, 8, 9])\n",
    "\n",
    "[Back to top](#top)"
   ]
  },
  {
   "cell_type": "code",
   "execution_count": 2,
   "metadata": {},
   "outputs": [
    {
     "name": "stdout",
     "output_type": "stream",
     "text": [
      "Answer 1:\n",
      "\n",
      "[ 0 -1  2 -1  4 -1  6 -1  8 -1]\n",
      "[0 1 2 3 4 5 6 7 8 9]\n",
      "\n",
      "Answer 2:\n",
      "\n",
      "[ 0 -1  2 -1  4 -1  6 -1  8 -1]\n",
      "[0 1 2 3 4 5 6 7 8 9]\n"
     ]
    }
   ],
   "source": [
    "import numpy as np\n",
    "\n",
    "arr = np.array([0, 1, 2, 3, 4, 5, 6, 7, 8, 9])\n",
    "\n",
    "print('Answer 1:\\n')\n",
    "out = arr.copy()\n",
    "out[out%2==1] = -1\n",
    "print(out)\n",
    "print(arr)\n",
    "\n",
    "print('\\nAnswer 2:\\n')\n",
    "out = np.where(arr % 2 == 1, -1, arr)\n",
    "print(out)\n",
    "print(arr)\n"
   ]
  },
  {
   "cell_type": "markdown",
   "metadata": {},
   "source": [
    "<a id='2'></a>\n",
    "### 2. Convert a 1D array to a 2D array with 2 rows\n",
    "\n",
    "Input:\n",
    "\n",
    "np.arange(10)\n",
    "\n",
    "Desired Output:\n",
    "\n",
    "#> array([[0, 1, 2, 3, 4],\n",
    "#>        [5, 6, 7, 8, 9]])\n",
    "\n",
    "[Back to top](#top)"
   ]
  },
  {
   "cell_type": "code",
   "execution_count": 26,
   "metadata": {},
   "outputs": [
    {
     "name": "stdout",
     "output_type": "stream",
     "text": [
      "[[0 1 2 3 4]\n",
      " [5 6 7 8 9]]\n"
     ]
    }
   ],
   "source": [
    "arr = np.arange(10)\n",
    "print(arr.reshape(2, -1))  # Setting to -1 automatically decides the number of cols"
   ]
  },
  {
   "cell_type": "markdown",
   "metadata": {},
   "source": [
    "<a id='3'></a>\n",
    "### 3. Create the following pattern without hardcoding. Use only numpy functions and the below input array a.\n",
    "\n",
    "Input :\n",
    "\n",
    "a = np.array([1,2,3])\n",
    "\n",
    "Desired Output:\n",
    "\n",
    "#> array([1, 1, 1, 2, 2, 2, 3, 3, 3, 1, 2, 3, 1, 2, 3, 1, 2, 3])\n",
    "\n",
    "[Back to top](#top)"
   ]
  },
  {
   "cell_type": "code",
   "execution_count": 5,
   "metadata": {},
   "outputs": [
    {
     "name": "stdout",
     "output_type": "stream",
     "text": [
      "[1 1 1 2 2 2 3 3 3 1 2 3 1 2 3 1 2 3]\n"
     ]
    }
   ],
   "source": [
    "arr = np.array([1,2,3])\n",
    "\n",
    "a = np.repeat(arr,3)\n",
    "b = np.tile(arr,3)\n",
    "print(np.concatenate((a,b)))"
   ]
  },
  {
   "cell_type": "markdown",
   "metadata": {},
   "source": [
    "<a id='4'></a>\n",
    "### 4. From array a remove all items present in array b\n",
    "\n",
    "Input:\n",
    "\n",
    "a = np.array([1,2,3,4,5])\n",
    "\n",
    "b = np.array([5,6,7,8,9])\n",
    "\n",
    "Desired Output:\n",
    "\n",
    "array([1,2,3,4])\n",
    "\n",
    "[Back to top](#top)"
   ]
  },
  {
   "cell_type": "code",
   "execution_count": 10,
   "metadata": {},
   "outputs": [
    {
     "name": "stdout",
     "output_type": "stream",
     "text": [
      "[1 2 3 4]\n"
     ]
    }
   ],
   "source": [
    "a = np.array([1,2,3,4,5])\n",
    "b = np.array([5,6,7,8,9])\n",
    "\n",
    "print(np.setdiff1d(a,b))"
   ]
  },
  {
   "cell_type": "markdown",
   "metadata": {},
   "source": [
    "<a id='5'></a>\n",
    "### 5. Get the positions where elements of a and b match\n",
    "\n",
    "Input:\n",
    "\n",
    "a = np.array([1,2,3,2,3,4,3,4,5,6])\n",
    "\n",
    "b = np.array([7,2,10,2,7,4,9,4,9,8])\n",
    "\n",
    "Desired Output:\n",
    "\n",
    "#> (array([1, 3, 5, 7]),)\n",
    "\n",
    "[Back to top](#top)"
   ]
  },
  {
   "cell_type": "code",
   "execution_count": 14,
   "metadata": {},
   "outputs": [
    {
     "name": "stdout",
     "output_type": "stream",
     "text": [
      "(array([1, 3, 5, 7], dtype=int64),)\n"
     ]
    }
   ],
   "source": [
    "a = np.array([1,2,3,2,3,4,3,4,5,6])\n",
    "b = np.array([7,2,10,2,7,4,9,4,9,8])\n",
    "\n",
    "print(np.where(a==b))"
   ]
  },
  {
   "cell_type": "markdown",
   "metadata": {},
   "source": [
    "<a id='6'></a>\n",
    "### 6. Get all items between 5 and 10 from a.\n",
    "\n",
    "Input:\n",
    "\n",
    "a = np.array([2, 6, 1, 9, 10, 3, 27])\n",
    "\n",
    "Desired Output:\n",
    "\n",
    "(array([6, 9, 10]),)\n",
    "\n",
    "[Back to top](#top)"
   ]
  },
  {
   "cell_type": "code",
   "execution_count": 30,
   "metadata": {},
   "outputs": [
    {
     "name": "stdout",
     "output_type": "stream",
     "text": [
      "Method 1: [ 6  9 10]\n",
      "Method 2: [ 6  9 10]\n"
     ]
    }
   ],
   "source": [
    "a = np.array([2, 6, 1, 9, 10, 3, 27])\n",
    "\n",
    "print('Method 1:',a[np.where((a>=5) & (a<=10))])\n",
    "print('Method 2:',a[np.logical_and(a>=5,a<=10)])"
   ]
  },
  {
   "cell_type": "markdown",
   "metadata": {},
   "source": [
    "<a id='7'></a>\n",
    "### 7. Swap columns 1 and 2 in the array arr / swap rows 1 and 2 in the array arr\n",
    "[Back to top](#top)"
   ]
  },
  {
   "cell_type": "code",
   "execution_count": 68,
   "metadata": {},
   "outputs": [
    {
     "name": "stdout",
     "output_type": "stream",
     "text": [
      "Original Array:\n",
      " [[0 1 2]\n",
      " [3 4 5]\n",
      " [6 7 8]]\n",
      "\n",
      "Swapped Array: columns\n",
      " [[1 0 2]\n",
      " [4 3 5]\n",
      " [7 6 8]]\n",
      "\n",
      "Original Array:\n",
      " [[0 1 2]\n",
      " [3 4 5]\n",
      " [6 7 8]]\n",
      "\n",
      "Swapped Array: rows\n",
      " [[3 4 5]\n",
      " [0 1 2]\n",
      " [6 7 8]]\n"
     ]
    }
   ],
   "source": [
    "arr = np.arange(9).reshape(3,3)\n",
    "print('Original Array:\\n',arr)\n",
    "print('\\nSwapped Array: columns\\n',arr[:,[1,0,2]])\n",
    "\n",
    "arr = np.arange(9).reshape(3,3)\n",
    "print('\\nOriginal Array:\\n',arr)\n",
    "print('\\nSwapped Array: rows\\n',arr[[1,0,2],:])"
   ]
  },
  {
   "cell_type": "markdown",
   "metadata": {},
   "source": [
    "<a id='8'></a>\n",
    "### 8. Reverse the rows/columns of a 2D array arr.\n",
    "[Back to top](#top)"
   ]
  },
  {
   "cell_type": "code",
   "execution_count": 70,
   "metadata": {},
   "outputs": [
    {
     "name": "stdout",
     "output_type": "stream",
     "text": [
      "Original Array:\n",
      " [[0 1 2]\n",
      " [3 4 5]\n",
      " [6 7 8]]\n",
      "\n",
      "Reversed Array:\n",
      " [[6 7 8]\n",
      " [3 4 5]\n",
      " [0 1 2]]\n",
      "\n",
      "Original Array:\n",
      " [[0 1 2]\n",
      " [3 4 5]\n",
      " [6 7 8]]\n",
      "\n",
      "Reversed Array:\n",
      " [[2 1 0]\n",
      " [5 4 3]\n",
      " [8 7 6]]\n"
     ]
    }
   ],
   "source": [
    "arr = np.arange(9).reshape(3,3)\n",
    "print('Original Array:\\n',arr)\n",
    "print('\\nReversed Array:\\n',arr[::-1,:])\n",
    "\n",
    "arr = np.arange(9).reshape(3,3)\n",
    "print('\\nOriginal Array:\\n',arr)\n",
    "print('\\nReversed Array:\\n',arr[:,::-1])"
   ]
  },
  {
   "cell_type": "markdown",
   "metadata": {},
   "source": [
    "<a id='9'></a>\n",
    "### 9. Create a 2D array of shape 5x3 to contain random decimal numbers between 5 and 10.\n",
    "[Back to top](#top)"
   ]
  },
  {
   "cell_type": "code",
   "execution_count": 3,
   "metadata": {},
   "outputs": [
    {
     "name": "stdout",
     "output_type": "stream",
     "text": [
      "Solution Method 1:\n",
      "[[5.89396746 8.0803073  5.87492506]\n",
      " [8.25972234 9.09221641 8.32292428]\n",
      " [8.03775868 9.31703423 7.4667828 ]\n",
      " [9.71990975 5.76089051 8.31284133]\n",
      " [5.87722118 7.84054874 5.3679374 ]]\n",
      "\n",
      "Solution Method 2:\n",
      "[[6.52445383 5.26074249 9.24757686]\n",
      " [5.97597301 8.62434831 5.72566971]\n",
      " [5.2218547  7.42678381 7.56093416]\n",
      " [8.54785103 7.98000908 6.45325562]\n",
      " [6.36634615 7.54009102 9.07867175]]\n"
     ]
    }
   ],
   "source": [
    "arr = np.arange(9).reshape(3,3)\n",
    "\n",
    "print('Solution Method 1:')\n",
    "rand_arr = np.random.randint(low=5, high=10, size=(5,3)) + np.random.random((5,3))\n",
    "print(rand_arr)\n",
    "\n",
    "print('\\nSolution Method 2:')\n",
    "rand_arr = np.random.uniform(5,10, size=(5,3))\n",
    "print(rand_arr)"
   ]
  },
  {
   "cell_type": "markdown",
   "metadata": {},
   "source": [
    "<a id='10'></a>\n",
    "### 10.  Print or show only 3 decimal places of the numpy array rand_arr.\n",
    "[Back to top](#top)"
   ]
  },
  {
   "cell_type": "code",
   "execution_count": 98,
   "metadata": {},
   "outputs": [
    {
     "name": "stdout",
     "output_type": "stream",
     "text": [
      "[[0.932 0.518 0.968]\n",
      " [0.713 0.931 0.982]\n",
      " [0.253 0.183 0.704]\n",
      " [0.845 0.95  0.804]\n",
      " [0.97  0.912 0.577]]\n"
     ]
    }
   ],
   "source": [
    "rand_arr = np.random.random((5,3))\n",
    "np.set_printoptions(precision=3)\n",
    "\n",
    "print(rand_arr)"
   ]
  }
 ],
 "metadata": {
  "kernelspec": {
   "display_name": "Python 3",
   "language": "python",
   "name": "python3"
  },
  "language_info": {
   "codemirror_mode": {
    "name": "ipython",
    "version": 3
   },
   "file_extension": ".py",
   "mimetype": "text/x-python",
   "name": "python",
   "nbconvert_exporter": "python",
   "pygments_lexer": "ipython3",
   "version": "3.7.3"
  }
 },
 "nbformat": 4,
 "nbformat_minor": 2
}
